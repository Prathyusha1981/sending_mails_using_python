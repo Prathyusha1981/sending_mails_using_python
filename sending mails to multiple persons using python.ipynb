{
 "cells": [
  {
   "cell_type": "code",
   "execution_count": 11,
   "metadata": {},
   "outputs": [],
   "source": [
    "import smtplib as s"
   ]
  },
  {
   "cell_type": "code",
   "execution_count": null,
   "metadata": {},
   "outputs": [],
   "source": [
    "import smtplib as s\n",
    "ob = s.SMTP('smtp.gmail.com',587)\n",
    "ob.ehlo()\n",
    "ob.starttls()\n",
    "ob.login(\"your gmail\",\"your password\")\n",
    "subject=\"sending mails to multiple persons using python\"\n",
    "body=\"I am writing the python code to send gmails\"\n",
    "message=\"subject:{}\\n\\n{}\".format(subject,body)\n",
    "listadd=['receiver mail id 1',\n",
    "        'receiver mail id 2',\n",
    "        'receiver mail id 3',\n",
    "        'receiver mail id 4']\n",
    "ob.sendmail('your gmail',listadd,message)\n",
    "print(\"send mail\")\n",
    "ob.quit()"
   ]
  }
 ],
 "metadata": {
  "kernelspec": {
   "display_name": "Python 3",
   "language": "python",
   "name": "python3"
  },
  "language_info": {
   "codemirror_mode": {
    "name": "ipython",
    "version": 3
   },
   "file_extension": ".py",
   "mimetype": "text/x-python",
   "name": "python",
   "nbconvert_exporter": "python",
   "pygments_lexer": "ipython3",
   "version": "3.7.4"
  }
 },
 "nbformat": 4,
 "nbformat_minor": 2
}
